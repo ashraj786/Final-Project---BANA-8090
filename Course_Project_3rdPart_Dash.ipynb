{
 "cells": [
  {
   "cell_type": "code",
   "execution_count": null,
   "metadata": {},
   "outputs": [
    {
     "name": "stdout",
     "output_type": "stream",
     "text": [
      " * Serving Flask app \"__main__\" (lazy loading)\n",
      " * Environment: production\n",
      "   WARNING: This is a development server. Do not use it in a production deployment.\n",
      "   Use a production WSGI server instead.\n",
      " * Debug mode: off\n"
     ]
    },
    {
     "name": "stderr",
     "output_type": "stream",
     "text": [
      " * Running on http://127.0.0.1:8050/ (Press CTRL+C to quit)\n",
      "C:\\Users\\Pushpa\\Anaconda3\\lib\\site-packages\\dash\\resources.py:49: UserWarning:\n",
      "\n",
      "You have set your config to `serve_locally=True` but A local version of https://codepen.io/chriddyp/pen/bWLwgP.css is not available.\n",
      "If you added this file with `app.scripts.append_script` or `app.css.append_css`, use `external_scripts` or `external_stylesheets` instead.\n",
      "See https://dash.plot.ly/external-resources\n",
      "\n",
      "127.0.0.1 - - [07/Oct/2019 02:41:28] \"GET / HTTP/1.1\" 200 -\n",
      "127.0.0.1 - - [07/Oct/2019 02:41:28] \"GET /_dash-component-suites/dash_renderer/react@16.8.6.min.js?v=1.1.0&m=1570397648 HTTP/1.1\" 200 -\n",
      "127.0.0.1 - - [07/Oct/2019 02:41:28] \"GET /_dash-component-suites/dash_renderer/prop-types@15.7.2.min.js?v=1.1.0&m=1570397648 HTTP/1.1\" 200 -\n",
      "127.0.0.1 - - [07/Oct/2019 02:41:28] \"GET /_dash-component-suites/dash_renderer/react-dom@16.8.6.min.js?v=1.1.0&m=1570397648 HTTP/1.1\" 200 -\n",
      "127.0.0.1 - - [07/Oct/2019 02:41:28] \"GET /_dash-component-suites/dash_html_components/dash_html_components.min.js?v=1.0.1&m=1570397654 HTTP/1.1\" 200 -\n",
      "127.0.0.1 - - [07/Oct/2019 02:41:29] \"GET /_dash-component-suites/dash_core_components/highlight.pack.js?v=1.2.1&m=1570397650 HTTP/1.1\" 200 -\n",
      "127.0.0.1 - - [07/Oct/2019 02:41:29] \"GET /_dash-component-suites/dash_core_components/dash_core_components.min.js?v=1.2.1&m=1570397650 HTTP/1.1\" 200 -\n",
      "127.0.0.1 - - [07/Oct/2019 02:41:29] \"GET /_dash-component-suites/dash_renderer/dash_renderer.min.js?v=1.1.0&m=1570397648 HTTP/1.1\" 200 -\n",
      "127.0.0.1 - - [07/Oct/2019 02:41:29] \"GET /_dash-component-suites/dash_core_components/plotly-1.49.4.min.js?v=1.2.1&m=1570397650 HTTP/1.1\" 200 -\n",
      "127.0.0.1 - - [07/Oct/2019 02:41:30] \"GET /_dash-layout HTTP/1.1\" 200 -\n",
      "127.0.0.1 - - [07/Oct/2019 02:41:30] \"GET /_dash-dependencies HTTP/1.1\" 200 -\n",
      "127.0.0.1 - - [07/Oct/2019 02:41:31] \"POST /_dash-update-component HTTP/1.1\" 200 -\n",
      "127.0.0.1 - - [07/Oct/2019 02:41:39] \"POST /_dash-update-component HTTP/1.1\" 200 -\n"
     ]
    }
   ],
   "source": [
    "## To create visualizations on Dash\n",
    "\n",
    "# Loading Key libraries\n",
    "import dash\n",
    "import dash_core_components as dcc\n",
    "import dash_html_components as html\n",
    "import pandas as pd\n",
    "\n",
    "\n",
    "# Reading the dataset from desktop location\n",
    "df = pd.read_csv('C:/Users/Pushpa/Desktop/Courses_Sem1/Python/Course Project/SDOH_Infrastructure_Explorer.csv')\n",
    "\n",
    "\n",
    "# Creating the table structure a given dataframe\n",
    "def generate_table(dataframe, max_rows=30):\n",
    "    return html.Table(\n",
    "        # Header\n",
    "        [html.Tr([html.Th(col) for col in dataframe.columns])] +\n",
    "\n",
    "        # Body\n",
    "        [html.Tr([\n",
    "            html.Td(dataframe.iloc[i][col]) for col in dataframe.columns\n",
    "        ]) for i in range(min(len(dataframe), max_rows))]\n",
    "    )\n",
    "\n",
    "# Creating the app object and defining its layout\n",
    "app = dash.Dash()\n",
    "app.layout = html.Div(children=[\n",
    "    html.H4(children='List of key Healthcare Facilities and SDOH Resources '),\n",
    "    dcc.Dropdown(id='dropdown', options=[\n",
    "        {'label': i, 'value': i} for i in df[\"Facility Type\"].unique()\n",
    "    ], multi=True, placeholder='Filter by Facility Type...'),\n",
    "    html.Div(id='table-container')\n",
    "])\n",
    "\n",
    "@app.callback(\n",
    "    dash.dependencies.Output('table-container', 'children'),\n",
    "    [dash.dependencies.Input('dropdown', 'value')])\n",
    "def display_table(dropdown_value):\n",
    "    if dropdown_value is None:\n",
    "        return generate_table(df)\n",
    "\n",
    "\n",
    "# Creating a filter to select user specified facilities\n",
    "    dff = df[df[\"Facility Type\"].str.contains('|'.join(dropdown_value))]\n",
    "    return generate_table(dff)\n",
    "app.css.append_css({\"external_url\": \"https://codepen.io/chriddyp/pen/bWLwgP.css\"})\n",
    "\n",
    "\n",
    "\n",
    "# To run the code on browser and to ignore the %tb error\n",
    "if __name__ == '__main__':\n",
    "    app.run_server(debug=False)\n",
    "    app=QtGui.QApplication.instance()\t# checks if QApplication already exists\n",
    "if not app:\t# create QApplication if it doesnt exist\n",
    "\tapp = QtGui.QApplication(sys.argv)\n",
    "\n",
    "    \n",
    "# Save and run the code and the click on the link displayed after '* Running on'"
   ]
  },
  {
   "cell_type": "code",
   "execution_count": null,
   "metadata": {},
   "outputs": [],
   "source": []
  }
 ],
 "metadata": {
  "kernelspec": {
   "display_name": "Python 3",
   "language": "python",
   "name": "python3"
  },
  "language_info": {
   "codemirror_mode": {
    "name": "ipython",
    "version": 3
   },
   "file_extension": ".py",
   "mimetype": "text/x-python",
   "name": "python",
   "nbconvert_exporter": "python",
   "pygments_lexer": "ipython3",
   "version": "3.7.3"
  }
 },
 "nbformat": 4,
 "nbformat_minor": 2
}
